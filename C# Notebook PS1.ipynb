{
 "cells": [
  {
   "cell_type": "code",
   "execution_count": 1,
   "id": "02c417cd",
   "metadata": {},
   "outputs": [],
   "source": [
    "//Question 1\n",
    "//What data type is each of the following?\n",
    "\n",
    "\n",
    "\n",
    "//5 is an integer\\n\",\n",
    "//5.0 is a float data\\n\",\n",
    "//5 > 1 is a boolean value\\n\",\n",
    "//5 * 2 is a string\\n\",\n",
    "//'5' * 2 is a string multiplication operation\\n\",\n",
    "//'5' + '2' is a string concatenation operation\\n\",\n",
    "//5 / 2 is a float data\\n\",\n",
    "//5 % 2 is an integer\\n\",\n",
    "//{5, 2, 1} is a data type\\n\",\n",
    "//5 == 3 is a boolean value\\n\",\n",
    "//Pi (the number) is a float type\\n\""
   ]
  },
  {
   "cell_type": "code",
   "execution_count": 3,
   "id": "74c90570",
   "metadata": {},
   "outputs": [
    {
     "name": "stdout",
     "output_type": "stream",
     "text": [
      "String Length:34\r\n"
     ]
    }
   ],
   "source": [
    "//Write (and evaluate) C# expressions that answer these questions:\n",
    "//a. How many letters are there in 'Supercalifragilisticexpialidocious'?\n",
    "//b. Does 'Supercalifragilisticexpialidocious' contain 'ice' as a substring?\n",
    "//c. Which of the following words is the longest: Supercalifragilisticexpialidocious, Honorificabilitudinitatibus, or Bababadalgharaghtakamminarronnkonn?\n",
    "//d. Which composer comes first in the dictionary: 'Berlioz', 'Borodin', 'Brian',\n",
    "//'Bartok', 'Bellini', 'Buxtehude', 'Bernstein'. Which one comes last?\n",
    "\n",
    "//2A\n",
    "string inputString = \"Supercalifragilisticexpialidocious\";\n",
    "Console.WriteLine(\"String Length:\"+inputString.Length);\n",
    "Console.ReadLine();"
   ]
  },
  {
   "cell_type": "code",
   "execution_count": 4,
   "id": "a35d4b4a",
   "metadata": {},
   "outputs": [
    {
     "name": "stdout",
     "output_type": "stream",
     "text": [
      "Does 'Supercalifragilisticexpialidocious' contain 'ice' as a substring?\n",
      "True\r\n"
     ]
    }
   ],
   "source": [
    "//Question 2B\n",
    "bool bool_variable = inputString.Contains(\"ice\");\n",
    "Console.WriteLine($\"Does 'Supercalifragilisticexpialidocious' contain 'ice' as a substring?\\n{bool_variable}\");"
   ]
  },
  {
   "cell_type": "code",
   "execution_count": 6,
   "id": "5c48241c",
   "metadata": {},
   "outputs": [
    {
     "name": "stdout",
     "output_type": "stream",
     "text": [
      "The longest word(s) is/are:\n",
      "Supercalifragilisticexpialidocious Bababadalgharaghtakamminarronnkonn\n"
     ]
    }
   ],
   "source": [
    "//Question 2C\n",
    "\n",
    "string word1 = \"Supercalifragilisticexpialidocious\";\n",
    "string word2 = \"Honorificabilitudinitatibus\";\n",
    "string word3 = \"Bababadalgharaghtakamminarronnkonn\";\n",
    "\n",
    "// Setting longest string variable\n",
    "string longestWord = \"\";\n",
    "\n",
    "// Setting conditional statements to check for the longest words\n",
    "if (word1.Length >= word2.Length && word1.Length >= word3.Length)\n",
    "{\n",
    "    longestWord = word1;\n",
    "}\n",
    "if (word2.Length >= word1.Length && word2.Length >= word3.Length)\n",
    "{\n",
    "    longestWord = $\"{longestWord} {word2}\";\n",
    "}\n",
    "if (word3.Length >= word1.Length && word3.Length >= word2.Length)\n",
    "{\n",
    "    longestWord = $\"{longestWord} {word3}\";\n",
    "}\n",
    "\n",
    "// Printing the longest words\n",
    "Console.WriteLine(\"The longest word(s) is/are:\");\n",
    "Console.WriteLine(longestWord);"
   ]
  },
  {
   "cell_type": "code",
   "execution_count": 9,
   "id": "107a15ca",
   "metadata": {},
   "outputs": [
    {
     "name": "stdout",
     "output_type": "stream",
     "text": [
      "First composer in the dictionary: Bartok\n",
      "Last composer in the dictionary: Buxtehude\n"
     ]
    }
   ],
   "source": [
    "//Question 2d.\n",
    "List<string> musicComposers = new List<string>();\n",
    "\n",
    "musicComposers.Add(\"Berlioz\");\n",
    "musicComposers.Add(\"Borodin\");\n",
    "musicComposers.Add(\"Brain\");\n",
    "musicComposers.Add(\"Bartok\");\n",
    "musicComposers.Add(\"Bellini\");\n",
    "musicComposers.Add(\"Buxtehude\");\n",
    "musicComposers.Add(\"Bernstein\");\n",
    "\n",
    "// Sorting the list of composers in ascending order\n",
    "musicComposers.Sort();\n",
    "\n",
    "// Taking a count of items in the list\n",
    "int composersCount = musicComposers.Count;\n",
    "\n",
    "// Storing the last list item in a variable\n",
    "int lastComposerPosition = composersCount - 1;\n",
    "\n",
    "// Printing the first and last items of the list\n",
    "Console.WriteLine(\"First composer in the dictionary: {0}\", musicComposers[0]);\n",
    "Console.WriteLine(\"Last composer in the dictionary: {0}\", musicComposers[lastComposerPosition]);"
   ]
  },
  {
   "cell_type": "code",
   "execution_count": 11,
   "id": "824fa573",
   "metadata": {},
   "outputs": [
    {
     "name": "stdout",
     "output_type": "stream",
     "text": [
      "Program to Find Area of Triangle\n",
      "The area of the triangle with sides 2, 2, 2 is \n",
      "1.7320508075688772\n"
     ]
    }
   ],
   "source": [
    "//Question 3\n",
    "\n",
    "//Implement function triangleArea(a,b,c) that takes as input the lengths of the 3\n",
    "//sides of a triangle and returns the area of the triangle. By Heron's formula, the area\n",
    "//of a triangle with side lengths a, b, and c is\n",
    "//s(s - a)(s -b)(s -c), where\n",
    "//s = (a +b + c) /2.\n",
    "//>>> triangleArea(2,2,2)\n",
    "//1.7320508075688772\n",
    "\n",
    "static void CalculateTriangleArea(double sideA, double sideB, double sideC)\n",
    "{\n",
    "    Console.WriteLine(\"Program to Find Area of Triangle\");\n",
    "\n",
    "    // Setting data type for variables\n",
    "    double semiPerimeter, area;\n",
    "\n",
    "    // Calculate area\n",
    "    semiPerimeter = (sideA + sideB + sideC) / 2;\n",
    "    area = Math.Sqrt(semiPerimeter * (semiPerimeter - sideA) * (semiPerimeter - sideB) * (semiPerimeter - sideC));\n",
    "\n",
    "    // Return the calculated area\n",
    "    Console.WriteLine($\"The area of the triangle with sides {sideA}, {sideB}, {sideC} is \\n{area}\");\n",
    "}\n",
    "\n",
    "CalculateTriangleArea(2, 2, 2);"
   ]
  },
  {
   "cell_type": "code",
   "execution_count": 13,
   "id": "fe6912b8",
   "metadata": {},
   "outputs": [
    {
     "name": "stdout",
     "output_type": "stream",
     "text": [
      "How many numbers do you want to input?\n",
      "Enter 0 numbers in the array:\n",
      "The Even elements are: \n",
      "The Odd elements are: "
     ]
    }
   ],
   "source": [
    "//Question 4\n",
    "//Write a program in C# Sharp to separate odd and even integers in separate arrays.\n",
    "//Go to the editor\n",
    "//Test Data :\n",
    "//Input the number of elements to be stored in the array :5\n",
    "//Input 5 elements in the array :\n",
    "//element - 0 : 25\n",
    "//element - 1 : 47\n",
    "//element - 2 : 42\n",
    "//element - 3 : 56\n",
    "//element - 4 : 32\n",
    "//Expected Output:\n",
    "//The Even elements are:\n",
    "//42 56 32\n",
    "//The Odd elements are :\n",
    "//25 47\n",
    "\n",
    "\n",
    "// Using C sharp\n",
    "\n",
    "\n",
    "{\n",
    "    Console.WriteLine(\"How many numbers do you want to input?\");\n",
    "    int numberOfElements = Convert.ToInt32(Console.ReadLine());\n",
    "\n",
    "    int[] inputArray = new int[numberOfElements]; // Dynamically allocate memory based on user input\n",
    "    int[] evenArray = new int[numberOfElements];\n",
    "    int[] oddArray = new int[numberOfElements];\n",
    "    int index, evenIndex = 0, oddIndex = 0;\n",
    "\n",
    "    // Validating user input\n",
    "    Console.WriteLine(\"Enter {0} numbers in the array:\", numberOfElements);\n",
    "    for (index = 0; index < numberOfElements; index++)\n",
    "    {\n",
    "        Console.Write(\"Number - {0} : \", index + 1);\n",
    "        inputArray[index] = Convert.ToInt32(Console.ReadLine());\n",
    "    }\n",
    "\n",
    "    // Checking for odd and even numbers\n",
    "    for (index = 0; index < numberOfElements; index++)\n",
    "    {\n",
    "        if (inputArray[index] % 2 == 0)\n",
    "        {\n",
    "            evenArray[evenIndex] = inputArray[index];\n",
    "            evenIndex++;\n",
    "        }\n",
    "        else\n",
    "        {\n",
    "            oddArray[oddIndex] = inputArray[index];\n",
    "            oddIndex++;\n",
    "        }\n",
    "    }\n",
    "\n",
    "    // Printing even numbers\n",
    "    Console.Write(\"The Even elements are: \");\n",
    "    for (index = 0; index < evenIndex; index++)\n",
    "    {\n",
    "        Console.Write(\"{0} \", evenArray[index]);\n",
    "    }\n",
    "    Console.WriteLine();\n",
    "\n",
    "    // Printing odd numbers\n",
    "    Console.Write(\"The Odd elements are: \");\n",
    "    for (index = 0; index < oddIndex; index++)\n",
    "    {\n",
    "        Console.Write(\"{0} \", oddArray[index]);\n",
    "    }\n",
    "}"
   ]
  },
  {
   "cell_type": "code",
   "execution_count": 25,
   "id": "e014e4d0",
   "metadata": {},
   "outputs": [
    {
     "name": "stdout",
     "output_type": "stream",
     "text": [
      "True"
     ]
    }
   ],
   "source": [
    "//Question 5 C#\n",
    "//a. Write a function inside(x,y,x1,y1,x2,y2) that returns True or False depending on whether the point (x,y) \n",
    "//lies in the rectangle with lower left corner (x1,y1) and upper right corner (x2,y2).\n",
    "//>>> inside(1,1,0,0,2,3)\n",
    "//True\n",
    "//>>> inside(-1,-1,0,0,2,3)\n",
    "//False\n",
    "\n",
    "\n",
    "\n",
    "static void CheckIfPointIsInsideRectangle(double pointX, double pointY, double rectX1, double rectY1, double rectX2, double rectY2)\n",
    "{\n",
    "    // Code to set conditions\n",
    "    if (pointX > rectX1 && pointX < rectX2 && pointY > rectY1 && pointY < rectY2)\n",
    "    {\n",
    "        Console.Write(\"True\");\n",
    "    }\n",
    "    else\n",
    "    {\n",
    "        Console.Write(\"False\");\n",
    "    }\n",
    "}\n",
    "\n",
    "// Code to call function\n",
    "CheckIfPointIsInsideRectangle(1, 1, 0, 0, 2, 3);\n"
   ]
  },
  {
   "cell_type": "code",
   "execution_count": 26,
   "id": "dde085aa",
   "metadata": {},
   "outputs": [
    {
     "ename": "Unhandled Exception",
     "evalue": "(9,5): error CS0103: The name 'Inside' does not exist in the current context\r\n(14,5): error CS0103: The name 'Inside' does not exist in the current context",
     "output_type": "error",
     "traceback": [
      "(9,5): error CS0103: The name 'Inside' does not exist in the current context\r\n(14,5): error CS0103: The name 'Inside' does not exist in the current context"
     ]
    }
   ],
   "source": [
    "//5b. Use function inside() from part a. to write an expression that tests whether the point (1,1) lies in both of the\n",
    "//following rectangles: one with lower left corner (0.3, 0.5) and upper right corner (1.1, 0.7) and the other with \n",
    "//lower left corner (0.5, 0.2) and upper right corner (1.1, 2).\n",
    "\n",
    "\n",
    "static void Test()\n",
    "{\n",
    "    Console.WriteLine(\"Do points (1, 1, 0.3, 0.5, 1.1, 0.7) lie in the rectangle with inside above\");\n",
    "    Inside(1, 1, 0.3, 0.5, 1.1, 0.7);\n",
    "\n",
    "    Console.WriteLine();\n",
    "\n",
    "    Console.WriteLine(\"Do points (1, 1, 0.5, 0.2, 1.1, 2) lie in the rectangle with inside above\");\n",
    "    Inside(1, 1, 0.5, 0.2, 1.1, 2);\n",
    "}\n",
    "\n",
    "Test();\n"
   ]
  },
  {
   "cell_type": "code",
   "execution_count": null,
   "id": "97acbff6",
   "metadata": {},
   "outputs": [],
   "source": []
  }
 ],
 "metadata": {
  "kernelspec": {
   "display_name": ".NET (C#)",
   "language": "C#",
   "name": ".net-csharp"
  },
  "language_info": {
   "file_extension": ".cs",
   "mimetype": "text/x-csharp",
   "name": "C#",
   "pygments_lexer": "csharp",
   "version": "8.0"
  }
 },
 "nbformat": 4,
 "nbformat_minor": 5
}
